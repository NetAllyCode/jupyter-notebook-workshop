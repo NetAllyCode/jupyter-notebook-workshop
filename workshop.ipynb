{
 "cells": [
  {
   "cell_type": "markdown",
   "id": "b3628114",
   "metadata": {},
   "source": [
    "## Learning Outcomes and Objectives\n",
    "- Become familiar with working in a Jupyter Notebook.\n",
    "- Become aware of useful scientific computing packages such as matplotlib, numpy and sympy.\n",
    "- Learn some basic $\\LaTeX$ and use it within a Jupyter Notebook.\n",
    "- Learn how to add packages to a Jupyter Environment."
   ]
  },
  {
   "cell_type": "markdown",
   "id": "dfde314c",
   "metadata": {},
   "source": [
    "## Introduction\n",
    "Hi. If you are reading this after following the instructions in the `README` then you have successfully setup your environment. Awesome! Lets now take this time to showcase what Jupyter Notebooks are and some of the useful things you can do with them. Quoting from [this blog post](https://www.dataquest.io/blog/jupyter-notebook-tutorial/) Jupyter Notebooks are \" a single document that combines visualizations, narrative text, mathematical equations, and other rich media. In other words: it’s a single document where you can run code, display the output, and also add explanations, formulas, charts, and make your work more transparent, understandable, repeatable, and shareable.\"\n",
    "\n",
    "In Jupyter, explanatory text and code are broken into cells. \n",
    "\n",
    "**<span style=\"color:red\">Do This:</span>** Goto `Insert->Insert Cell Below` to create a new cell."
   ]
  },
  {
   "cell_type": "markdown",
   "id": "3c959cd1",
   "metadata": {},
   "source": [
    "Above should be the cell that you just inserted. Notice that when you create a new cell, there is a <span style=\"color:blue\">blue</span> boarder indicating that the cell is selected. Pressing the cell  will turn the boarder <span style=\"color:green\">green</span>. This means you can now edit the content of the cell. At the left, you should see `In [ ]:`. This indicates that the cell is an input code cell. For this notebook, code cells default to python. Let's run a simple hello world. Add `print('Hello World!')` to the input cell and run it by pressing `Shift + Enter` . Alternatively you can run code cells by pressing the run button as seen below. ![run button](./images/run-button.webp)\n",
    "\n",
    "After running the cell, you should see `In [1]:` displayed at the left and the `Hello World!` text printed directly below. You may be thinking \"this is great, but what can I do other than printing hello world?\".\n",
    " \n",
    "There are a lot of python packages meant for scientific computing. Jupyter notebooks can use many, if not all of them. Let's take a quick tour of some popular scientific packages."
   ]
  },
  {
   "cell_type": "markdown",
   "id": "3807056b",
   "metadata": {},
   "source": [
    "## [Matplotlib](https://matplotlib.org/) \n",
    "As the name suggests, matplotlib is a library for making plots. The syntax should feel familiar to users accustom to using matlab. Below is a trivial example of using the library within a Jupyter Notebook."
   ]
  },
  {
   "cell_type": "code",
   "execution_count": 1,
   "id": "c80b1429",
   "metadata": {},
   "outputs": [
    {
     "data": {
      "image/png": "[encoded data removed]",
      "text/plain": [
       "<Figure size 640x480 with 1 Axes>"
      ]
     },
     "metadata": {},
     "output_type": "display_data"
    }
   ],
   "source": [
    "import matplotlib.pyplot as plt\n",
    "\n",
    "x = [1, 2, 3, 4, 5]\n",
    "y = [1, 2, 3, 4, 5]\n",
    "fig, ax = plt.subplots(1, 1)\n",
    "ax.grid('on')\n",
    "ax.set_title('y vs x')\n",
    "ax.set_xlabel('x (unit)')\n",
    "ax.set_ylabel('y (unit)')\n",
    "ax.plot(x, y);"
   ]
  },
  {
   "cell_type": "markdown",
   "id": "d571beb8",
   "metadata": {},
   "source": [
    "## [Numpy](https://numpy.org/)\n",
    "Numpy is a linear algebra library. It can be very useful for solving systems of equations and generating input for a plot.\n",
    "\n",
    "**<span style=\"color:red\">Do This:</span>** Using numpy and matplotlib, graph a cosine wave with a domain $\\epsilon$ [0, 2$\\pi$]"
   ]
  },
  {
   "cell_type": "code",
   "execution_count": 2,
   "id": "f5e4e662",
   "metadata": {},
   "outputs": [],
   "source": [
    "import numpy as np\n",
    "\n",
    "# Your code goes here"
   ]
  },
  {
   "cell_type": "markdown",
   "id": "5fb372b3",
   "metadata": {},
   "source": [
    "You may have noticed some mathematical symbols while going though this tutorial, such as $\\pi$ and $\\epsilon$. One cool thing about markdown cells within Jupyter Notebooks is they support Latex. Latex can be inserted into markdown cells using one of the following ways.\n",
    "1. Inline latex by enclosing text with `$`'s \n",
    "\n",
    "<table style='float:left;'>\n",
    "    <tr>\n",
    "        <th>Example</th>\n",
    "        <th>Rendering</th>\n",
    "    </tr>\n",
    "    <tr>\n",
    "        <td>\\$ \\pi \\epsilon \\$</td>\n",
    "        <td>$ \\pi \\epsilon $</td>\n",
    "    </tr>\n",
    "</table>\n",
    "<br>\n",
    "<br>\n",
    "<br>\n",
    "<br>\n",
    "\n",
    "2. Multi-line latex by enclosing text with `$$`'s\n",
    "\n",
    "<table style='float:left;'>\n",
    "    <tr>\n",
    "        <th>Example</th>\n",
    "        <th>Rendering</th>\n",
    "    </tr>\n",
    "    <tr>\n",
    "        <td>\\$\\$ <br>\n",
    "        \\pi <br>\n",
    "        \\epsilon <br>\n",
    "        \\$\\$\n",
    "        </td>\n",
    "        <td>$$\n",
    "        \\pi\n",
    "        \\epsilon\n",
    "        $$</td>\n",
    "    </tr>\n",
    "</table>\n",
    "<br>\n",
    "<br>\n",
    "<br>\n",
    "<br>\n",
    "<br>\n",
    "<br>\n",
    "<br>\n",
    "\n",
    "**<span style=\"color:red\">Do This:</span>** Create a markdown cell by inserting a new cell and then selecting `Cell->Cell Type->Markdown`. Alternatively, you can create the new cell and press `M` to convert it into a markdown cell.\n",
    "> Note: You render a markdown cell by running it, much like a code cell.\n",
    "\n",
    "\n",
    "**<span style=\"color:red\">Do This:</span>** Using multiline latex, create the following mathematical expression.\n",
    "![matrix](./images/matrix.png)\n",
    "\n",
    "> Note: The following cheat sheets may prove useful.\n",
    "> - <https://joshua.smcvt.edu/undergradmath/undergradmath_0.png>\n",
    "> - <https://joshua.smcvt.edu/undergradmath/undergradmath_1.png>"
   ]
  },
  {
   "cell_type": "markdown",
   "id": "4032cf92",
   "metadata": {},
   "source": [
    "## Managing dependencies\n",
    "We have only scratched the surface of packages that are avaiable to us in python. You may be wondering, \"how do I experiment with a package that isn't included within this environment?\". We can add one using a package manager. Most people within the scientific community use [conda](https://docs.conda.io/en/latest/) to manage their python packages. Personally, I prefer to use nix since I commonly use packages/toolchains that require more than just python.\n",
    "\n",
    "**<span style=\"color:red\">Do This:</span>** Add and test the [sympy](https://www.sympy.org/en/index.html) package by following these steps.\n",
    "1. Goto <https://search.nixos.org>, select the unstable channel and search for the sympy package.\n",
    "> Note: It may be useful to know that we are using a python 3.10 kernel for this notebook.\n",
    "2. Copy the name of the package and add it to the `shell.nix` file contained within this repository.\n",
    "3. Close this Jupyter Notebook and restart the `nix-shell`\n",
    "4. Enter the `jupyter notebook` command to re-enter the Jupyter Notebook.\n",
    "5. Insert a cell below and work through the [sympy introduction](https://docs.sympy.org/latest/tutorials/intro-tutorial/intro.html) until you have confidence that the added package is working correctly."
   ]
  },
  {
   "cell_type": "markdown",
   "id": "39a8dfee",
   "metadata": {},
   "source": [
    "## Other useful tips and tricks\n",
    "You can inspect markdown cells by double clicking on them. This is very useful if you want to see the raw markdown that created a particular rendering.\n",
    "\n",
    "**<span style=\"color:red\">Do This:</span>** Inspect a previous markdown cell input by double clicking on it."
   ]
  }
 ],
 "metadata": {
  "kernelspec": {
   "display_name": "Python 3 (ipykernel)",
   "language": "python",
   "name": "python3"
  },
  "language_info": {
   "codemirror_mode": {
    "name": "ipython",
    "version": 3
   },
   "file_extension": ".py",
   "mimetype": "text/x-python",
   "name": "python",
   "nbconvert_exporter": "python",
   "pygments_lexer": "ipython3",
   "version": "3.10.7"
  }
 },
 "nbformat": 4,
 "nbformat_minor": 5
}
